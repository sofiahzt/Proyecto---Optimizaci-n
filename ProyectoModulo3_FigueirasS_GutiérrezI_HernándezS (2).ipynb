{
 "cells": [
  {
   "cell_type": "markdown",
   "id": "185b5f60",
   "metadata": {},
   "source": [
    "# Rendimiento de una cuenta de ahorro"
   ]
  },
  {
   "cell_type": "markdown",
   "id": "a75a51ed",
   "metadata": {},
   "source": [
    "Un estudiante de primer semestre está interesado en abrir una cuenta de ahorro, con el fin de irse de viaje con sus amigos al graduarse, el monto inicial es de 20,000 MXN y se fijó una meta de 27,000 MXN y no está seguro de cuál banco le dará mejor rendimiento. \n",
    "\n",
    "* El banco A le ofrece una tasa de interés simple mensual del 0.7% \n",
    "* El banco B le ofrece una tasa de interés compuesto mensual del 0.65%\n",
    "* El banco C le ofrece una tasa de interés simple anual del 7.5%"
   ]
  },
  {
   "cell_type": "markdown",
   "id": "0c294b02",
   "metadata": {},
   "source": [
    "## Objetivos\n",
    "\n",
    "### Objetivo general\n",
    "\n",
    "* Elegir el banco que ofrezca la mejor opción para alcanzar la meta del estudiante.\n",
    "\n",
    "### Objetivos específicos\n",
    "\n",
    "* Utilizar las fórmulas de interés simple e interés compuesto para realizar los cálculos\n",
    "* Obtener los rendimientos de cada una de las opciones\n",
    "* Decidir en cuál de las opciones se alcanza la meta en un menor periodo de tiempo"
   ]
  },
  {
   "cell_type": "markdown",
   "id": "05fc6273",
   "metadata": {},
   "source": [
    "## Modelo que representa\n",
    "\n",
    "#### Interés simple \n",
    "\n",
    "$ C_0(1+ki) $\n",
    "\n",
    "$ (Ck/C0 -1) / i $\n",
    "\n",
    "#### Interés compuesto\n",
    "\n",
    "$ C_0(1+i)^k $\n",
    "\n",
    "$ k\\log{(1+i)} $"
   ]
  },
  {
   "cell_type": "markdown",
   "id": "8c522a0c",
   "metadata": {},
   "source": [
    "## Significado y valor de los parámetros\n",
    "\n",
    "$ C_0 = $ $ monto $ $ inicial $\n",
    "\n",
    "$ C_k = meta $\n",
    "\n",
    "$ C = $ $ capital $ $ final $\n",
    "\n",
    "$ i = $ $ tasa $ $ de $ $ interés $ \n",
    "\n",
    "$ k = tiempo $"
   ]
  },
  {
   "cell_type": "markdown",
   "id": "1fe404b3",
   "metadata": {},
   "source": [
    "## Condiciones iniciales\n",
    "\n",
    "$ Monto $ $ inicial $ $ = 20,000 $ $ MXN $"
   ]
  },
  {
   "cell_type": "markdown",
   "id": "469390fa",
   "metadata": {},
   "source": [
    "## Banco A"
   ]
  },
  {
   "cell_type": "code",
   "execution_count": 14,
   "id": "5b608e40",
   "metadata": {},
   "outputs": [],
   "source": [
    "import numpy as np\n",
    "import matplotlib.pyplot as plt\n",
    "%matplotlib inline"
   ]
  },
  {
   "cell_type": "code",
   "execution_count": 31,
   "id": "5e95c84f",
   "metadata": {},
   "outputs": [
    {
     "data": {
      "text/plain": [
       "51.0"
      ]
     },
     "execution_count": 31,
     "metadata": {},
     "output_type": "execute_result"
    }
   ],
   "source": [
    "meta = 27000\n",
    "monto = 20000\n",
    "tasa = 0.007\n",
    "\n",
    "tiempo = (meta/monto -1)/tasa\n",
    "tiempo = np.ceil(tiempo)\n",
    "tiempo"
   ]
  },
  {
   "cell_type": "code",
   "execution_count": 32,
   "id": "40ffa865",
   "metadata": {},
   "outputs": [
    {
     "data": {
      "text/plain": [
       "27140.0"
      ]
     },
     "execution_count": 32,
     "metadata": {},
     "output_type": "execute_result"
    }
   ],
   "source": [
    "capital_final = monto*(1 + tiempo*tasa)\n",
    "capital_final"
   ]
  },
  {
   "cell_type": "code",
   "execution_count": 78,
   "id": "dea4bc6e",
   "metadata": {},
   "outputs": [
    {
     "data": {
      "text/plain": [
       "27560.000000000004"
      ]
     },
     "execution_count": 78,
     "metadata": {},
     "output_type": "execute_result"
    }
   ],
   "source": [
    "rendimiento_54 = monto*(1 + 54*tasa)\n",
    "rendimiento_54"
   ]
  },
  {
   "cell_type": "code",
   "execution_count": 33,
   "id": "3134b6f5",
   "metadata": {},
   "outputs": [
    {
     "data": {
      "image/png": "[encoded data removed]",
      "text/plain": [
       "<Figure size 432x288 with 1 Axes>"
      ]
     },
     "metadata": {
      "needs_background": "light"
     },
     "output_type": "display_data"
    }
   ],
   "source": [
    "plt.figure()\n",
    "tiempo = np.linspace(0, 55, 20)\n",
    "plt.scatter(tiempo, monto*(1 + tiempo*tasa))\n",
    "plt.grid()"
   ]
  },
  {
   "cell_type": "markdown",
   "id": "40e8f78d",
   "metadata": {},
   "source": [
    "## Banco B"
   ]
  },
  {
   "cell_type": "code",
   "execution_count": 72,
   "id": "f5f8dff4",
   "metadata": {},
   "outputs": [
    {
     "data": {
      "text/plain": [
       "47.0"
      ]
     },
     "execution_count": 72,
     "metadata": {},
     "output_type": "execute_result"
    }
   ],
   "source": [
    "monto = 20000\n",
    "tasa_2 = 0.0065\n",
    "meta = 27000\n",
    "\n",
    "tiempo_2 = np.log(meta/monto)/np.log(1 + tasa_2)\n",
    "tiempo_2 = np.ceil(tiempo_2)\n",
    "tiempo_2"
   ]
  },
  {
   "cell_type": "code",
   "execution_count": 73,
   "id": "614572bb",
   "metadata": {},
   "outputs": [
    {
     "data": {
      "text/plain": [
       "27119.246537516952"
      ]
     },
     "execution_count": 73,
     "metadata": {},
     "output_type": "execute_result"
    }
   ],
   "source": [
    "capital_final_2 = monto*(1 + tasa_2)**tiempo_2\n",
    "capital_final_2"
   ]
  },
  {
   "cell_type": "code",
   "execution_count": 79,
   "id": "5b256fe5",
   "metadata": {},
   "outputs": [
    {
     "data": {
      "text/plain": [
       "28377.496174228672"
      ]
     },
     "execution_count": 79,
     "metadata": {},
     "output_type": "execute_result"
    }
   ],
   "source": [
    "rendimiento_54_2 = monto*(1 + tasa_2)**54\n",
    "rendimiento_54_2"
   ]
  },
  {
   "cell_type": "code",
   "execution_count": 74,
   "id": "bd883b00",
   "metadata": {},
   "outputs": [
    {
     "data": {
      "image/png": "[encoded data removed]",
      "text/plain": [
       "<Figure size 432x288 with 1 Axes>"
      ]
     },
     "metadata": {
      "needs_background": "light"
     },
     "output_type": "display_data"
    }
   ],
   "source": [
    "plt.figure()\n",
    "tiempo_2 = np.linspace(0, 200, 100)\n",
    "plt.scatter(tiempo_2, monto*(1 + tasa)**tiempo_2)\n",
    "plt.plot(47, capital_final_2, \"*r\")\n",
    "plt.grid()"
   ]
  },
  {
   "cell_type": "markdown",
   "id": "622c011c",
   "metadata": {},
   "source": [
    "## Banco C"
   ]
  },
  {
   "cell_type": "code",
   "execution_count": 75,
   "id": "6fa5d2ac",
   "metadata": {},
   "outputs": [
    {
     "data": {
      "text/plain": [
       "53.0"
      ]
     },
     "execution_count": 75,
     "metadata": {},
     "output_type": "execute_result"
    }
   ],
   "source": [
    "meta = 27000\n",
    "monto = 20000\n",
    "tasa_3 = 0.08\n",
    "\n",
    "tiempo_3 = (meta/monto - 1)/(tasa_3/12)\n",
    "tiempo_3 = np.ceil(tiempo_3)\n",
    "tiempo_3"
   ]
  },
  {
   "cell_type": "code",
   "execution_count": 60,
   "id": "124af62b",
   "metadata": {},
   "outputs": [
    {
     "data": {
      "text/plain": [
       "27066.666666666664"
      ]
     },
     "execution_count": 60,
     "metadata": {},
     "output_type": "execute_result"
    }
   ],
   "source": [
    "capital_final_3 = monto*(1 + tiempo_3*(tasa_3/12))\n",
    "capital_final_3"
   ]
  },
  {
   "cell_type": "code",
   "execution_count": 80,
   "id": "4f34d590",
   "metadata": {},
   "outputs": [
    {
     "data": {
      "text/plain": [
       "27200.000000000004"
      ]
     },
     "execution_count": 80,
     "metadata": {},
     "output_type": "execute_result"
    }
   ],
   "source": [
    "rendimiento_54_3 = monto*(1 + 54*(tasa_3/12))\n",
    "rendimiento_54_3"
   ]
  },
  {
   "cell_type": "code",
   "execution_count": 66,
   "id": "0e86f241",
   "metadata": {},
   "outputs": [
    {
     "data": {
      "image/png": "[encoded data removed]",
      "text/plain": [
       "<Figure size 432x288 with 1 Axes>"
      ]
     },
     "metadata": {
      "needs_background": "light"
     },
     "output_type": "display_data"
    }
   ],
   "source": [
    "plt.figure()\n",
    "tiempo_3 = np.linspace(0, 55, 21)\n",
    "plt.scatter(tiempo_3, monto*(1 + tiempo_3*(tasa_3/12)))\n",
    "plt.grid()"
   ]
  },
  {
   "cell_type": "markdown",
   "id": "1896dd62",
   "metadata": {},
   "source": [
    "## Visualización de resultados \n",
    "\n",
    "Banco|Tiempo|Rendimiento | 4.5 años\n",
    ":----|------|------------|---------------------------\n",
    "A|4.25 años |$\\$$27,140.00 | $\\$$27,560.00\n",
    "B|3.9 años | $\\$$27,119.24 | $\\$$28,377.49\n",
    "C|4.4 años | $\\$$27,066.66 | $\\$$27,200.00"
   ]
  },
  {
   "cell_type": "markdown",
   "id": "f3f88f72",
   "metadata": {},
   "source": [
    "## Conclusiones\n",
    "\n",
    "* El Banco B ofrece una mejor tasa de interés, pues llega a la meta en menos tiempo.\n",
    "* Si buscamos hacer una inversión a largo plazo, es recomendable optar por una opción que ofrezca interés compuesto, ya que éste tiene una curva de rendimiento exponencial, a diferencia del interés simple donde el rendimiento siempre es lineal.\n",
    "* Al simular el modelo fue necesario modificar las tasas de interés para que fuera posible cumplir con la meta antes de que el estudiante terminara la universidad (4.5 años)."
   ]
  }
 ],
 "metadata": {
  "kernelspec": {
   "display_name": "Python 3 (ipykernel)",
   "language": "python",
   "name": "python3"
  },
  "language_info": {
   "codemirror_mode": {
    "name": "ipython",
    "version": 3
   },
   "file_extension": ".py",
   "mimetype": "text/x-python",
   "name": "python",
   "nbconvert_exporter": "python",
   "pygments_lexer": "ipython3",
   "version": "3.9.7"
  }
 },
 "nbformat": 4,
 "nbformat_minor": 5
}
