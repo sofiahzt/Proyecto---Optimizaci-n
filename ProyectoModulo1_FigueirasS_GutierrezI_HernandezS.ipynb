{
 "cells": [
  {
   "cell_type": "markdown",
   "id": "3d1e92f3",
   "metadata": {},
   "source": [
    "# Optimización de un Portafolio de Inversión"
   ]
  },
  {
   "cell_type": "markdown",
   "id": "4cb31ada",
   "metadata": {},
   "source": [
    "## Situación\n",
    "\n",
    "Un inversionista conservador cuenta con $1,000,000 y busca diversificar su portafolio de acuerdo a sus necesidades. Acude con un asesor financiero para crear un modelo que optimice sus ganancias. \n",
    "\n",
    "**Riesgo bajo** \n",
    "- Cetes -- Rendimiento: 6.15%  \n",
    "- UDI -- Rendimiento: 7.20%\n",
    "\n",
    "**Riesgo medio**\n",
    "- ETFs -- Rendimiento: 16.52%\n",
    "- FIBRAS -- Rendimiento: 7.93%\n",
    "\n",
    "**Riesgo alto**\n",
    "- GRUMA -- Rendimiento: 26.4%\n",
    "- BIMBO -- Rendimiento: 27.22%\n",
    "- BACHOCO -- Rendimiento: 23.28%\n",
    "\n",
    "- TSLA -- Rendimiento: 32.35%\n",
    "- APPLE -- 24.14%\n",
    "\n",
    "El asesor financiero sugiere que se invierta el 50% del capital en activos de riesgo bajo, el 30% en activos de riesgo medio y el 20% en activos de riesgo alto. Además de esto, el cliente busca que su portafolio cumpla con las siguientes características:\n",
    "\n",
    "- Porcentajes de inversión según el riesgo\n",
    "- Se debe de invertir por lo menos 150,000 cada activo de riesgo bajo\n",
    "- Se debe de invertir por lo menos 75,000 cada activo de riesgo medio\n",
    "- Del dinero a invertir en los activos de riesgo alto, el 60% debe destinarse a empresas mexicanas y el 40% a empresas extranjeras\n",
    "- No se pueden invertir más de $50,000 en cada acción \n",
    "\n"
   ]
  },
  {
   "cell_type": "markdown",
   "id": "2aeb1e33",
   "metadata": {},
   "source": [
    "## Criterio de optimización\n",
    "\n",
    "* Maximizar ganancias"
   ]
  },
  {
   "cell_type": "markdown",
   "id": "f92167ef",
   "metadata": {},
   "source": [
    "## Función objetivo"
   ]
  },
  {
   "cell_type": "markdown",
   "id": "c3ccce39",
   "metadata": {},
   "source": [
    "$ maximizar -->  0.0615x_1 + 0.0720x_2 + 0.1652x_3 + 0.0793x_4 + 0.264x_5 + 0.2722x_6 + 0.2328x_7 + 0.3235x_8 + 0.2414x_9 $"
   ]
  },
  {
   "cell_type": "markdown",
   "id": "1a449983",
   "metadata": {},
   "source": [
    "## Restricciones\n",
    "\n",
    "$ x_1 + x_2 + x_3 + x_4 + x_5 + x_6 + x_7 + x_8 + x_9 \\leq 1000000 $\n",
    "\n",
    "$ x_1 + x_2 \\leq 500000 $\n",
    "\n",
    "$ x_3 + x_4 \\leq 300000 $\n",
    "\n",
    "$ x_5 + x_6 + x_7 + x_8 + x_9 \\leq 200000 $\n",
    "\n",
    "$ x_1 \\geq 150000 $\n",
    "\n",
    "$ x_2 \\geq 150000 $\n",
    "\n",
    "$ x_3 \\geq 75000 $\n",
    "\n",
    "$ x_4 \\geq 75000 $\n",
    "\n",
    "$ x_5 + x_6 + x_7 \\leq 120000 $\n",
    "\n",
    "$ x_8 + x_9 \\leq 80000 $\n",
    "\n",
    "$ x_5 \\leq 50000 $\n",
    "\n",
    "$ x_6 \\leq 50000 $\n",
    "\n",
    "$ x_7 \\leq 50000 $\n",
    "\n",
    "$ x_8 \\leq 50000 $\n",
    "\n",
    "$ x_9 \\leq 50000 $"
   ]
  },
  {
   "cell_type": "code",
   "execution_count": 2,
   "id": "afc11956",
   "metadata": {},
   "outputs": [],
   "source": [
    "import numpy as np\n",
    "import scipy.optimize as opt"
   ]
  },
  {
   "cell_type": "code",
   "execution_count": 3,
   "id": "2f96c4d2",
   "metadata": {},
   "outputs": [],
   "source": [
    "o = np.array([-0.0615, -0.0720, -0.1652, -0.0793, -0.264, -0.2722, -0.2328, -0.3235, - 0.2414])\n",
    "r = np.array([[1, 1, 1, 1, 1, 1, 1, 1, 1],\n",
    "             [1, 1, 0, 0, 0, 0, 0, 0, 0],\n",
    "             [0, 0, 1, 1, 0, 0, 0, 0, 0],\n",
    "             [0, 0, 0, 0, 1, 1, 1, 1, 1],\n",
    "             [-1, 0, 0, 0, 0, 0, 0, 0, 0],\n",
    "             [0, -1, 0, 0, 0, 0, 0, 0, 0],\n",
    "             [0, 0, -1, 0, 0, 0, 0, 0, 0],\n",
    "             [ 0, 0, 0, -1, 0, 0, 0, 0, 0],\n",
    "             [ 0, 0, 0, 0, 1, 1, 1, 0, 0],\n",
    "             [ 0, 0, 0, 0, 0, 0, 0, 1, 1],\n",
    "             [ 0, 0, 0, 0, 1, 0, 0, 0, 0],\n",
    "             [ 0, 0, 0, 0, 0, 1, 0, 0, 0],\n",
    "             [ 0, 0, 0, 0, 0, 0, 1, 0, 0],\n",
    "             [ 0, 0, 0, 0, 0, 0, 0, 1, 0],\n",
    "             [ 0, 0, 0, 0, 0, 0, 0, 0, 1]])\n",
    "d = np.array([1000000, 500000, 300000, 200000, -150000, -150000, -75000, -75000, 120000, 80000, 50000, 50000, 50000, 50000, 50000])"
   ]
  },
  {
   "cell_type": "code",
   "execution_count": 6,
   "id": "f0c3ac29",
   "metadata": {},
   "outputs": [
    {
     "data": {
      "text/plain": [
       "     con: array([], dtype=float64)\n",
       "     fun: -132425.5\n",
       " message: 'Optimization terminated successfully.'\n",
       "     nit: 14\n",
       "   slack: array([     0.,      0.,      0.,      0.,      0., 200000., 150000.,\n",
       "            0.,      0.,      0.,      0.,      0.,  30000.,      0.,\n",
       "        20000.])\n",
       "  status: 0\n",
       " success: True\n",
       "       x: array([150000., 350000., 225000.,  75000.,  50000.,  50000.,  20000.,\n",
       "        50000.,  30000.])"
      ]
     },
     "execution_count": 6,
     "metadata": {},
     "output_type": "execute_result"
    }
   ],
   "source": [
    "solución = opt.linprog(o, r, d, method = \"simplex\")\n",
    "solución"
   ]
  },
  {
   "cell_type": "code",
   "execution_count": 7,
   "id": "e93e2a84",
   "metadata": {},
   "outputs": [
    {
     "data": {
      "text/plain": [
       "array([150000., 350000., 225000.,  75000.,  50000.,  50000.,  20000.,\n",
       "        50000.,  30000.])"
      ]
     },
     "execution_count": 7,
     "metadata": {},
     "output_type": "execute_result"
    }
   ],
   "source": [
    "solución.x"
   ]
  },
  {
   "cell_type": "markdown",
   "id": "ff3eac3d",
   "metadata": {},
   "source": [
    "### Portafolio de Inversión\n",
    "\n",
    "\n",
    "Activo|Inversión\n",
    ":----|----\n",
    "Cetes|$\\$$150,000\n",
    "UDIs|$\\$$350,000\n",
    "ETFs|$\\$$225,000\n",
    "FIBRAS|$\\$$75,000\n",
    "GRUMA|$\\$$50,000\n",
    "BIMBO|$\\$$50,000\n",
    "BACHOCO|$\\$$20,000\n",
    "TESLA|$\\$$50,000\n",
    "APPLE|$\\$$30,000"
   ]
  }
 ],
 "metadata": {
  "kernelspec": {
   "display_name": "Python 3 (ipykernel)",
   "language": "python",
   "name": "python3"
  },
  "language_info": {
   "codemirror_mode": {
    "name": "ipython",
    "version": 3
   },
   "file_extension": ".py",
   "mimetype": "text/x-python",
   "name": "python",
   "nbconvert_exporter": "python",
   "pygments_lexer": "ipython3",
   "version": "3.9.7"
  }
 },
 "nbformat": 4,
 "nbformat_minor": 5
}
